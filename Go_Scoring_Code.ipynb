{
 "cells": [
  {
   "cell_type": "code",
   "execution_count": null,
   "id": "de8e937c",
   "metadata": {},
   "outputs": [],
   "source": [
    "# Image Processing:\n",
    "# Goal: Image -> 19x19 Array\n",
    "\n"
   ]
  },
  {
   "cell_type": "code",
   "execution_count": null,
   "id": "2ef909b9",
   "metadata": {},
   "outputs": [],
   "source": [
    "# Scoring:\n",
    "# Inputs: 19x19 Array + B/W Prisoners  \n",
    "# Outputs: B/W Territories, Dame, Captured B/W Stones \n",
    "\n",
    "BOARDSIZE = 9\n",
    "\n",
    "# In the 19x19 array, black stone = 1, white stone = -1, empty = 0\n",
    "\n",
    "class Board():\n",
    "    \n",
    "    def __init__(self, size, state, white_capped, black_capped): \n",
    "        self.size = size\n",
    "        self.white_capped = white_capped\n",
    "        self.black_capped = black_capped\n",
    "        self.state = state # 19x19 array containing -1,1, and 0\n",
    "    \n",
    "    def is_valid(self):\n",
    "        pass\n",
    " "
   ]
  }
 ],
 "metadata": {
  "kernelspec": {
   "display_name": "Python 3 (ipykernel)",
   "language": "python",
   "name": "python3"
  },
  "language_info": {
   "codemirror_mode": {
    "name": "ipython",
    "version": 3
   },
   "file_extension": ".py",
   "mimetype": "text/x-python",
   "name": "python",
   "nbconvert_exporter": "python",
   "pygments_lexer": "ipython3",
   "version": "3.9.7"
  }
 },
 "nbformat": 4,
 "nbformat_minor": 5
}
